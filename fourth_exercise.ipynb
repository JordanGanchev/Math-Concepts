{
 "cells": [
  {
   "cell_type": "code",
   "execution_count": 55,
   "id": "e1474beb-43de-40ae-bbab-ff3a1ee43e17",
   "metadata": {},
   "outputs": [],
   "source": [
    "import sympy\n",
    "import numpy as np\n",
    "from numpy.polynomial import Polynomial\n",
    "import matplotlib.pyplot as plt"
   ]
  },
  {
   "cell_type": "code",
   "execution_count": 2,
   "id": "ec4c631b-e786-4270-946d-74fe490d3cea",
   "metadata": {},
   "outputs": [],
   "source": [
    "def nat():\n",
    "    current_number = 0\n",
    "    while True:\n",
    "        yield current_number"
   ]
  },
  {
   "cell_type": "code",
   "execution_count": 3,
   "id": "dbf8026d-bf5b-417c-80cc-2662202342fd",
   "metadata": {},
   "outputs": [],
   "source": [
    "def nat():\n",
    "    current_number = 0\n",
    "    while True:\n",
    "        yield current_number\n",
    "        current_number += 1"
   ]
  },
  {
   "cell_type": "code",
   "execution_count": 10,
   "id": "cd5fcd3b-b7e8-4a45-9775-f0f30ae0557d",
   "metadata": {},
   "outputs": [],
   "source": [
    "number = nat()"
   ]
  },
  {
   "cell_type": "code",
   "execution_count": 11,
   "id": "c9f1d142-739e-4343-92b2-901b5a8b0e8e",
   "metadata": {},
   "outputs": [
    {
     "data": {
      "text/plain": [
       "0"
      ]
     },
     "execution_count": 11,
     "metadata": {},
     "output_type": "execute_result"
    }
   ],
   "source": [
    "next(number)"
   ]
  },
  {
   "cell_type": "code",
   "execution_count": 12,
   "id": "5ee9bd95-5acd-4cd9-8e7d-621684d11ad1",
   "metadata": {},
   "outputs": [
    {
     "name": "stdout",
     "output_type": "stream",
     "text": [
      "1\n",
      "2\n",
      "3\n",
      "4\n",
      "5\n",
      "6\n",
      "7\n",
      "8\n",
      "9\n",
      "10\n"
     ]
    }
   ],
   "source": [
    "for i in number:\n",
    "    print(i)\n",
    "    if i >= 10:\n",
    "        break"
   ]
  },
  {
   "cell_type": "code",
   "execution_count": 21,
   "id": "3e253a92-ea4b-4690-9d22-82858126e6b2",
   "metadata": {},
   "outputs": [],
   "source": [
    "# generator\n",
    "def factorials():\n",
    "    current_number = 1\n",
    "    result = 1\n",
    "    while True:\n",
    "        yield result\n",
    "        result *= current_number\n",
    "        current_number += 1"
   ]
  },
  {
   "cell_type": "code",
   "execution_count": 28,
   "id": "3fbfefbb-8dd3-41ca-9856-894d40ab5bf1",
   "metadata": {},
   "outputs": [
    {
     "name": "stdout",
     "output_type": "stream",
     "text": [
      "0!  1\n",
      "1!  1\n",
      "2!  2\n",
      "3!  6\n",
      "4!  24\n",
      "5!  120\n",
      "6!  720\n",
      "7!  5040\n",
      "8!  40320\n"
     ]
    }
   ],
   "source": [
    "for i, n_factorial in enumerate(factorials()):\n",
    "    print(f\"{i}! \", n_factorial)\n",
    "    if n_factorial >= 10000:\n",
    "        break"
   ]
  },
  {
   "cell_type": "code",
   "execution_count": 30,
   "id": "ec8b0569-83e8-4cbd-9816-ee99dcb0627b",
   "metadata": {},
   "outputs": [],
   "source": [
    "# generator\n",
    "def factorials():\n",
    "    natural_numbers = nat()\n",
    "    current_number = next(natural_numbers)\n",
    "    result = 1\n",
    "    while True:\n",
    "        yield result\n",
    "        current_number = next(natural_numbers)\n",
    "        result *= current_number"
   ]
  },
  {
   "cell_type": "code",
   "execution_count": 32,
   "id": "05dbd186-2c31-4869-9c7a-574fab0b3b9a",
   "metadata": {},
   "outputs": [
    {
     "name": "stdout",
     "output_type": "stream",
     "text": [
      "0!  1\n",
      "1!  1\n",
      "2!  2\n",
      "3!  6\n",
      "4!  24\n",
      "5!  120\n",
      "6!  720\n",
      "7!  5040\n",
      "8!  40320\n",
      "9!  362880\n",
      "10!  3628800\n",
      "11!  39916800\n"
     ]
    }
   ],
   "source": [
    "for i, n_factorial in enumerate(factorials()):\n",
    "    print(f\"{i}! \", n_factorial)\n",
    "    if n_factorial >= 10000000:\n",
    "        break"
   ]
  },
  {
   "cell_type": "code",
   "execution_count": 34,
   "id": "5c07d9e2-34ef-4e55-b790-5aa7c420cd69",
   "metadata": {},
   "outputs": [],
   "source": [
    "def fibonacci():\n",
    "    a = 0\n",
    "    b = 1\n",
    "\n",
    "    while True:\n",
    "        yield a\n",
    "        c = a + b\n",
    "        a = b\n",
    "        b = c"
   ]
  },
  {
   "cell_type": "code",
   "execution_count": 36,
   "id": "b4f8517e-d7ea-4d3a-b50b-949a4ef234da",
   "metadata": {},
   "outputs": [
    {
     "name": "stdout",
     "output_type": "stream",
     "text": [
      "0!  0\n",
      "1!  1\n",
      "2!  1\n",
      "3!  2\n",
      "4!  3\n",
      "5!  5\n",
      "6!  8\n",
      "7!  13\n",
      "8!  21\n",
      "9!  34\n",
      "10!  55\n",
      "11!  89\n",
      "12!  144\n",
      "13!  233\n",
      "14!  377\n",
      "15!  610\n",
      "16!  987\n",
      "17!  1597\n",
      "18!  2584\n",
      "19!  4181\n",
      "20!  6765\n",
      "21!  10946\n",
      "22!  17711\n",
      "23!  28657\n",
      "24!  46368\n",
      "25!  75025\n",
      "26!  121393\n",
      "27!  196418\n",
      "28!  317811\n",
      "29!  514229\n",
      "30!  832040\n",
      "31!  1346269\n",
      "32!  2178309\n",
      "33!  3524578\n",
      "34!  5702887\n",
      "35!  9227465\n",
      "36!  14930352\n"
     ]
    }
   ],
   "source": [
    "for n, fib in enumerate(fibonacci()):\n",
    "    print(f\"{n}! \", fib)\n",
    "    if fib >= 10000000:\n",
    "        break"
   ]
  },
  {
   "cell_type": "code",
   "execution_count": 39,
   "id": "62b935a3-e7fe-4955-9210-aa2408caa040",
   "metadata": {},
   "outputs": [],
   "source": [
    "def fibonacci2():\n",
    "    a, b = 0, 1\n",
    "\n",
    "    while True:\n",
    "        yield a\n",
    "        a, b = b, a + b"
   ]
  },
  {
   "cell_type": "code",
   "execution_count": 40,
   "id": "658caad4-b9e2-4fab-b3de-be84e8d9a11e",
   "metadata": {},
   "outputs": [
    {
     "name": "stdout",
     "output_type": "stream",
     "text": [
      "0!  0\n",
      "1!  1\n",
      "2!  1\n",
      "3!  2\n",
      "4!  3\n",
      "5!  5\n",
      "6!  8\n",
      "7!  13\n",
      "8!  21\n",
      "9!  34\n",
      "10!  55\n",
      "11!  89\n",
      "12!  144\n",
      "13!  233\n",
      "14!  377\n",
      "15!  610\n",
      "16!  987\n",
      "17!  1597\n",
      "18!  2584\n",
      "19!  4181\n",
      "20!  6765\n",
      "21!  10946\n",
      "22!  17711\n",
      "23!  28657\n",
      "24!  46368\n",
      "25!  75025\n",
      "26!  121393\n",
      "27!  196418\n",
      "28!  317811\n",
      "29!  514229\n",
      "30!  832040\n",
      "31!  1346269\n",
      "32!  2178309\n",
      "33!  3524578\n",
      "34!  5702887\n",
      "35!  9227465\n",
      "36!  14930352\n"
     ]
    }
   ],
   "source": [
    "for n, fib in enumerate(fibonacci2()):\n",
    "    print(f\"{n}! \", fib)\n",
    "    if fib >= 10000000:\n",
    "        break"
   ]
  },
  {
   "cell_type": "markdown",
   "id": "5e6dbb21-975a-4444-9407-9ba75b137a68",
   "metadata": {},
   "source": [
    "# Linear Algebra\n",
    "### Vectors\n",
    "### Matrices\n",
    "### Linear transformations\n",
    "### Linear systems"
   ]
  },
  {
   "cell_type": "code",
   "execution_count": 53,
   "id": "6c71d283-31b4-41f7-92db-b02c62e1be41",
   "metadata": {},
   "outputs": [
    {
     "data": {
      "image/png": "[encoded data removed]",
      "text/plain": [
       "<Figure size 640x480 with 1 Axes>"
      ]
     },
     "metadata": {},
     "output_type": "display_data"
    }
   ],
   "source": [
    "def plot_complex_number(z):\n",
    "    plt.quiver(0, 0, z.real, z.imag, angles = \"xy\", scale_units = \"xy\", scale = 1)\n",
    "    \n",
    "    plt.xticks(range(0, 8))\n",
    "    plt.yticks(range(0, 8))\n",
    "\n",
    "plot_complex_number(6 + 4j)\n",
    "plot_complex_number(4 + 6j)"
   ]
  },
  {
   "cell_type": "markdown",
   "id": "c13b89ad-2b04-46ea-b88b-5432c0a910b0",
   "metadata": {},
   "source": [
    "$$ u= (2, -1,1), v = (3, -4, -2), w = (5, -10, -8) $$"
   ]
  },
  {
   "cell_type": "markdown",
   "id": "e9f3b0e2-dc38-40b9-b38d-7f4957c42a0b",
   "metadata": {},
   "source": [
    "$$ w = -2u + 3v => 2u - 3v + 1w = 0 $$"
   ]
  },
  {
   "cell_type": "code",
   "execution_count": 78,
   "id": "9936a39b-b7ed-4c3c-8629-faad5b61cbb5",
   "metadata": {},
   "outputs": [
    {
     "data": {
      "image/png": "[encoded data removed]",
      "text/plain": [
       "<Figure size 640x480 with 1 Axes>"
      ]
     },
     "metadata": {},
     "output_type": "display_data"
    }
   ],
   "source": [
    "def plot_complex_number2(z):\n",
    "    plt.quiver(0, 6, z.real, z.imag, angles = \"xy\", scale_units = \"xy\", scale = 1)\n",
    "    \n",
    "    plt.xticks(range(0, 10))\n",
    "    plt.yticks(range(0, 10))\n",
    "\n",
    "plot_complex_number2(9 + 4j)"
   ]
  },
  {
   "cell_type": "code",
   "execution_count": 81,
   "id": "741fef3a-0e36-4243-9426-07d5117f2e3b",
   "metadata": {},
   "outputs": [],
   "source": [
    "def plot_math_function(f, min_x, max_x, num_points):\n",
    "    x = np.linspace(min_x, max_x, num_points)\n",
    "    y = f(x)\n",
    "\n",
    "    plt.plot(x, y)\n",
    "\n",
    "    ax = plt.gca()\n",
    "    ax.spines[\"bottom\"].set_position(\"zero\")\n",
    "    ax.spines[\"left\"].set_position(\"zero\")\n",
    "    ax.spines[\"top\"].set_visible(False)\n",
    "    ax.spines[\"right\"].set_visible(False)\n",
    "\n",
    "    plt.gca().set_aspect(\"equal\")\n",
    "    \n",
    "    plt.show()"
   ]
  },
  {
   "cell_type": "code",
   "execution_count": 97,
   "id": "d804b2ac-f14f-42b1-aa74-f0a33a940a58",
   "metadata": {},
   "outputs": [
    {
     "data": {
      "image/png": "[encoded data removed]",
      "text/plain": [
       "<Figure size 640x480 with 1 Axes>"
      ]
     },
     "metadata": {},
     "output_type": "display_data"
    }
   ],
   "source": [
    "plot_math_function(lambda x: 2 * x + 3, -3, 5, 1000)\n",
    "# plot_math_function(lambda x: -x + 8, -1, 10, 1000)\n",
    "# plot_math_function(lambda x: x**2 - x - 2, -3, 4, 1000)\n",
    "# plot_math_function(lambda x: np.sin(x), -np.pi, np.pi, 1000)\n",
    "# plot_math_function(lambda x: np.sin(x) / x, -4 * np.pi, 4 * np.pi, 1000)"
   ]
  },
  {
   "cell_type": "markdown",
   "id": "27ba6477-68ac-4190-a55a-df9eae42bc36",
   "metadata": {},
   "source": [
    "# Matrix"
   ]
  },
  {
   "cell_type": "code",
   "execution_count": 98,
   "id": "28c87f19-f9fc-41ee-b860-8d3d3b533b8f",
   "metadata": {},
   "outputs": [],
   "source": [
    "A = np.array([\n",
    "    [2, 3, 7],\n",
    "    [8, 9, 1]\n",
    "])\n",
    "B = np.array([\n",
    "    [1, -3, 0],\n",
    "    [2, -4, 1]\n",
    "])"
   ]
  },
  {
   "cell_type": "code",
   "execution_count": 100,
   "id": "55a14b31-c425-4861-a4ae-eb77c7853c3c",
   "metadata": {},
   "outputs": [
    {
     "data": {
      "text/plain": [
       "array([[2, 8],\n",
       "       [3, 9],\n",
       "       [7, 1]])"
      ]
     },
     "execution_count": 100,
     "metadata": {},
     "output_type": "execute_result"
    }
   ],
   "source": [
    "A.T"
   ]
  },
  {
   "cell_type": "code",
   "execution_count": 101,
   "id": "018da1da-d9da-4447-a182-25333d127ebc",
   "metadata": {},
   "outputs": [
    {
     "data": {
      "text/plain": [
       "array([[ 3,  0,  7],\n",
       "       [10,  5,  2]])"
      ]
     },
     "execution_count": 101,
     "metadata": {},
     "output_type": "execute_result"
    }
   ],
   "source": [
    "A + B"
   ]
  },
  {
   "cell_type": "code",
   "execution_count": 102,
   "id": "151eed4d-21ea-4df5-8b7e-5b49a8741380",
   "metadata": {},
   "outputs": [
    {
     "data": {
      "text/plain": [
       "array([[ 4,  6, 14],\n",
       "       [16, 18,  2]])"
      ]
     },
     "execution_count": 102,
     "metadata": {},
     "output_type": "execute_result"
    }
   ],
   "source": [
    "A + A"
   ]
  },
  {
   "cell_type": "code",
   "execution_count": 103,
   "id": "e52cada1-8f8b-40af-b2af-10a25cbaf774",
   "metadata": {},
   "outputs": [
    {
     "data": {
      "text/plain": [
       "array([[ True,  True,  True],\n",
       "       [ True,  True,  True]])"
      ]
     },
     "execution_count": 103,
     "metadata": {},
     "output_type": "execute_result"
    }
   ],
   "source": [
    "2 * A == A + A"
   ]
  },
  {
   "cell_type": "code",
   "execution_count": 104,
   "id": "90c7d3e3-a99e-463f-921a-fca01759bad4",
   "metadata": {},
   "outputs": [
    {
     "data": {
      "text/plain": [
       "array([[ 9, -9, 14],\n",
       "       [26, -2,  7]])"
      ]
     },
     "execution_count": 104,
     "metadata": {},
     "output_type": "execute_result"
    }
   ],
   "source": [
    "2 * A + 5 * B"
   ]
  },
  {
   "cell_type": "code",
   "execution_count": 105,
   "id": "2ba6c51b-6c9c-41f4-8109-e7c2871a920c",
   "metadata": {},
   "outputs": [
    {
     "data": {
      "text/plain": [
       "(3, 2)"
      ]
     },
     "execution_count": 105,
     "metadata": {},
     "output_type": "execute_result"
    }
   ],
   "source": [
    "B.T.shape"
   ]
  },
  {
   "cell_type": "code",
   "execution_count": 106,
   "id": "4357b5f2-61c6-4257-9b16-aa93d9e2d570",
   "metadata": {},
   "outputs": [
    {
     "data": {
      "text/plain": [
       "array([[ -7,  -1],\n",
       "       [-19, -19]])"
      ]
     },
     "execution_count": 106,
     "metadata": {},
     "output_type": "execute_result"
    }
   ],
   "source": [
    "A.dot(B.T)"
   ]
  },
  {
   "cell_type": "code",
   "execution_count": 108,
   "id": "a8ed32a8-1694-4841-a3f8-d35d17959cde",
   "metadata": {},
   "outputs": [
    {
     "data": {
      "text/plain": [
       "array([[  2,  -9,   0],\n",
       "       [ 16, -36,   1]])"
      ]
     },
     "execution_count": 108,
     "metadata": {},
     "output_type": "execute_result"
    }
   ],
   "source": [
    "A * B # Hadamard product, element-wise"
   ]
  },
  {
   "cell_type": "code",
   "execution_count": 111,
   "id": "814c082d-85b6-46c6-b456-0370065b8ff1",
   "metadata": {},
   "outputs": [
    {
     "data": {
      "text/plain": [
       "array([[ -7,  -1],\n",
       "       [-19, -19]])"
      ]
     },
     "execution_count": 111,
     "metadata": {},
     "output_type": "execute_result"
    }
   ],
   "source": [
    "A @ B.T"
   ]
  },
  {
   "cell_type": "markdown",
   "id": "ca4b4f35-5aab-42f9-8700-09c73cfa556c",
   "metadata": {},
   "source": [
    "$$ [\\vec{p}] $$\n",
    "$$ \\vec{p}=m\\vec{v} $$\n",
    "$$ \\vec{AB} $$\n",
    "$$ \\overrightarrow{AB} $$\n",
    "$$ \\textbf{AB} $$\n",
    "$$ \\left| \\vec{a} \\right| $$\n",
    "$$ \\hat{a}=\\frac{\\vec{a}}{\\left | \\vec{a} \\right |} $$\n",
    "$$ \\vec{F}_{net}=\\vec{0} $$\n",
    "$$ \\vec{r}=x\\hat{i}+y\\hat{i}+z\\hat{i} $$\n",
    "$$ \\vec{p}\\times \\vec{q}=|\\vec{p}|\\vec{q}|sin\\theta \\hat{n} $$\n",
    "$$ \\vec{p}\\cdot\\vec{q}=|\\vec{p}|\\vec{q}|cos\\theta $$\n",
    "<!-- $$ \\va{a}, \\va*{a}, \\vb{a}, \\vb*{a} $$ -->"
   ]
  },
  {
   "cell_type": "markdown",
   "id": "abf0aab9-4415-4adc-b82a-fc024e441b18",
   "metadata": {},
   "source": [
    "$$ \\textbackslash begin \\{ pmatrix \\}\n",
    "a \\&b \\textbackslash \\textbackslash\n",
    "c \\&d\n",
    "\\textbackslash end \\{ pmatrix \\} $$ ###\n"
   ]
  },
  {
   "cell_type": "code",
   "execution_count": null,
   "id": "44b923e8-6736-4139-9c7b-7991fe01f84d",
   "metadata": {},
   "outputs": [],
   "source": []
  }
 ],
 "metadata": {
  "kernelspec": {
   "display_name": "Python 3 (ipykernel)",
   "language": "python",
   "name": "python3"
  },
  "language_info": {
   "codemirror_mode": {
    "name": "ipython",
    "version": 3
   },
   "file_extension": ".py",
   "mimetype": "text/x-python",
   "name": "python",
   "nbconvert_exporter": "python",
   "pygments_lexer": "ipython3",
   "version": "3.11.7"
  }
 },
 "nbformat": 4,
 "nbformat_minor": 5
}
