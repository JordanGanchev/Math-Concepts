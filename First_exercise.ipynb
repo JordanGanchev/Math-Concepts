{
 "cells": [
  {
   "cell_type": "markdown",
   "id": "1425e7ef-1e00-44f1-8147-b8cb0fcc17b1",
   "metadata": {},
   "source": [
    "# Hight-School Mathsd\n",
    "## Live Demos\n",
    "\n",
    "Hello World! This is my first try at writing Markdown\n",
    "\n",
    "$$ y=ax + b $$"
   ]
  },
  {
   "cell_type": "code",
   "execution_count": 4,
   "id": "43826971-84ab-4ac7-b769-1a4ed029e703",
   "metadata": {},
   "outputs": [
    {
     "name": "stdout",
     "output_type": "stream",
     "text": [
      "42\n"
     ]
    }
   ],
   "source": [
    "print(42)"
   ]
  },
  {
   "cell_type": "code",
   "execution_count": 5,
   "id": "46ed971a-1440-4986-8c29-7326986ea036",
   "metadata": {},
   "outputs": [
    {
     "data": {
      "text/plain": [
       "32"
      ]
     },
     "execution_count": 5,
     "metadata": {},
     "output_type": "execute_result"
    }
   ],
   "source": [
    "2**5 # 2 to the power of 5"
   ]
  },
  {
   "cell_type": "markdown",
   "id": "ef87173c-6dba-45b1-b35a-4745fce6415b",
   "metadata": {},
   "source": [
    "## Anodher subheading\n",
    "### Section2\n",
    "this text move.this text move.this text move.this text move.this text move.this text move.this text move.this text move.this text move.this text move.this text move.this text move.vthis text move.vvvthis text move.this text move.this text move.this text move."
   ]
  },
  {
   "cell_type": "markdown",
   "id": "f8b8cb4d-0336-497f-81b0-b3888ace2a21",
   "metadata": {},
   "source": [
    "# Anodher subheading\n",
    "## Section3\n",
    "this text move.this text move.this text move.this text move.this text move.this text move.this text move.this text move.this text move.this text move.this text move.this text move.vthis text move.vvvthis text move.this text move.this text move.this text move."
   ]
  },
  {
   "cell_type": "code",
   "execution_count": 6,
   "id": "f4a64609-ba68-4862-89ae-781b7d31b53b",
   "metadata": {},
   "outputs": [
    {
     "data": {
      "text/plain": [
       "[1, 2, 3]"
      ]
     },
     "execution_count": 6,
     "metadata": {},
     "output_type": "execute_result"
    }
   ],
   "source": [
    "[1, 2, 3]"
   ]
  },
  {
   "cell_type": "code",
   "execution_count": 7,
   "id": "e7b66c3b-e438-419f-8998-d97cd5668581",
   "metadata": {},
   "outputs": [
    {
     "data": {
      "text/plain": [
       "[1, 2, 3, 4]"
      ]
     },
     "execution_count": 7,
     "metadata": {},
     "output_type": "execute_result"
    }
   ],
   "source": [
    "[1, 2, 3] + [4]"
   ]
  },
  {
   "cell_type": "code",
   "execution_count": 8,
   "id": "cca93354-1539-48bc-8075-3d530515d599",
   "metadata": {},
   "outputs": [],
   "source": [
    "a = 5"
   ]
  },
  {
   "cell_type": "code",
   "execution_count": 9,
   "id": "75ab5eea-f05e-446c-a0b6-e8c2449f9d33",
   "metadata": {},
   "outputs": [
    {
     "data": {
      "text/plain": [
       "5"
      ]
     },
     "execution_count": 9,
     "metadata": {},
     "output_type": "execute_result"
    }
   ],
   "source": [
    "a"
   ]
  },
  {
   "cell_type": "code",
   "execution_count": null,
   "id": "df441df4-9283-4740-9e50-61bbd0200c44",
   "metadata": {},
   "outputs": [],
   "source": []
  }
 ],
 "metadata": {
  "kernelspec": {
   "display_name": "Python 3 (ipykernel)",
   "language": "python",
   "name": "python3"
  },
  "language_info": {
   "codemirror_mode": {
    "name": "ipython",
    "version": 3
   },
   "file_extension": ".py",
   "mimetype": "text/x-python",
   "name": "python",
   "nbconvert_exporter": "python",
   "pygments_lexer": "ipython3",
   "version": "3.11.7"
  }
 },
 "nbformat": 4,
 "nbformat_minor": 5
}
