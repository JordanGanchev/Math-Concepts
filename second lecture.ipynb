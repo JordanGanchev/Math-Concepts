{
 "cells": [
  {
   "cell_type": "code",
   "execution_count": 48,
   "id": "5237cf70-a161-4a34-bf53-b8cf01631055",
   "metadata": {},
   "outputs": [],
   "source": [
    "import numpy as np\n",
    "from numpy.polynomial import Polynomial\n",
    "import matplotlib.pyplot as plt"
   ]
  },
  {
   "cell_type": "code",
   "execution_count": 11,
   "id": "d18b29f6-03ac-40ef-af4c-9b56ffc23e04",
   "metadata": {},
   "outputs": [
    {
     "name": "stdout",
     "output_type": "stream",
     "text": [
      "1.0 + 2.0·x + 3.0·x²\n",
      "-10.0 + 5.0·x + 2.0·x² + 0.0·x³ + 3.0·x⁴\n",
      "16.0 - 10.0·x - 4.0·x² + 0.0·x³ - 24.0·x⁴ + 15.0·x⁵ + 6.0·x⁶\n",
      "   2\n",
      "1 x + 2 x + 3\n",
      "[  3   0   2   3 -10]\n",
      "[  6   9 -24   0  -4  -6  16]\n"
     ]
    }
   ],
   "source": [
    "print(Polynomial([1, 2, 3]))\n",
    "p1 = Polynomial([-8, 5, 2])\n",
    "p2 = Polynomial([-2, 0, 0, 0, 3])\n",
    "print(p1 + p2)\n",
    "print(p1 * p2)\n",
    "print(np.poly1d([1, 2, 3]))\n",
    "print(np.polyadd([2, 3 ,-8], [3, 0, 0, 0, -2]))\n",
    "print(np.polymul([2, 3 ,-8], [3, 0, 0, 0, -2]))"
   ]
  },
  {
   "cell_type": "code",
   "execution_count": 12,
   "id": "390e46c9-e24d-48ac-9aed-292b7d75bef6",
   "metadata": {},
   "outputs": [
    {
     "data": {
      "text/plain": [
       "array([-3.60849528,  1.10849528])"
      ]
     },
     "execution_count": 12,
     "metadata": {},
     "output_type": "execute_result"
    }
   ],
   "source": [
    "p1.roots()"
   ]
  },
  {
   "cell_type": "code",
   "execution_count": 13,
   "id": "34b50453-4ffa-4b9a-8d6d-728a17257778",
   "metadata": {},
   "outputs": [
    {
     "data": {
      "text/plain": [
       "array([-9.03602004e-01+0.j      ,  1.29491849e-17-0.903602j,\n",
       "        1.29491849e-17+0.903602j,  9.03602004e-01+0.j      ])"
      ]
     },
     "execution_count": 13,
     "metadata": {},
     "output_type": "execute_result"
    }
   ],
   "source": [
    "p2.roots()"
   ]
  },
  {
   "cell_type": "code",
   "execution_count": 15,
   "id": "a070e650-9e94-4c88-a426-333dcfe8b73c",
   "metadata": {},
   "outputs": [
    {
     "data": {
      "text/plain": [
       "array(['1', '2', '3', 'True'], dtype='<U21')"
      ]
     },
     "execution_count": 15,
     "metadata": {},
     "output_type": "execute_result"
    }
   ],
   "source": [
    "np.array([1, 2, 3, True])\n",
    "np.array([1, 2, 3, \"True\"])"
   ]
  },
  {
   "cell_type": "code",
   "execution_count": 17,
   "id": "5002d1bd-07ec-429f-86e8-eef9ed222ad7",
   "metadata": {},
   "outputs": [],
   "source": [
    "my_list = [-8, 5, \"soft\", True, Polynomial([2, 3])]"
   ]
  },
  {
   "cell_type": "code",
   "execution_count": 18,
   "id": "73fd09f7-a243-47c3-bce0-d165c1e4ab59",
   "metadata": {},
   "outputs": [
    {
     "data": {
      "text/plain": [
       "True"
      ]
     },
     "execution_count": 18,
     "metadata": {},
     "output_type": "execute_result"
    }
   ],
   "source": [
    "my_list[3]"
   ]
  },
  {
   "cell_type": "code",
   "execution_count": 23,
   "id": "e41a0352-816c-48a4-82b2-2fbe6480826d",
   "metadata": {},
   "outputs": [],
   "source": [
    "my_set = set((1, 2, 3,))"
   ]
  },
  {
   "cell_type": "code",
   "execution_count": 25,
   "id": "c8ec8978-f7bd-4b71-99c0-644bf47cf54b",
   "metadata": {},
   "outputs": [
    {
     "data": {
      "text/plain": [
       "True"
      ]
     },
     "execution_count": 25,
     "metadata": {},
     "output_type": "execute_result"
    }
   ],
   "source": [
    "2 in my_set"
   ]
  },
  {
   "cell_type": "code",
   "execution_count": 33,
   "id": "8d5c9a03-948e-4a2d-8169-5ad9444fb703",
   "metadata": {},
   "outputs": [
    {
     "data": {
      "text/plain": [
       "{-10, -9, -8, -7, -6, -5, -4, -3, -2, -1, 0, 1, 2, 3, 4, 5, 6, 7, 8, 9, 10}"
      ]
     },
     "execution_count": 33,
     "metadata": {},
     "output_type": "execute_result"
    }
   ],
   "source": [
    "list(range(-10, 11))\n",
    "set(range(-10, 11))"
   ]
  },
  {
   "cell_type": "code",
   "execution_count": 34,
   "id": "c3edfc05-469e-456a-a0f8-fd5614de99a1",
   "metadata": {},
   "outputs": [
    {
     "data": {
      "text/plain": [
       "{-10, -9, -8, -7, -6, -5, -4, -3, -2, -1, 0, 1, 2, 3, 4, 5, 6, 7, 8, 9, 10}"
      ]
     },
     "execution_count": 34,
     "metadata": {},
     "output_type": "execute_result"
    }
   ],
   "source": [
    "{x for x in range(-10, 11)}"
   ]
  },
  {
   "cell_type": "code",
   "execution_count": 35,
   "id": "34592392-a991-4462-be6e-35f46614f2db",
   "metadata": {},
   "outputs": [
    {
     "data": {
      "text/plain": [
       "{0, 1, 2, 3, 4, 5, 6, 7, 8, 9, 10}"
      ]
     },
     "execution_count": 35,
     "metadata": {},
     "output_type": "execute_result"
    }
   ],
   "source": [
    "{x for x in range(-10, 11) if x >= 0}"
   ]
  },
  {
   "cell_type": "code",
   "execution_count": 36,
   "id": "521ea9a8-72b8-4bec-a915-12ceae851306",
   "metadata": {},
   "outputs": [
    {
     "data": {
      "text/plain": [
       "{0, 1, 2, 3, 4, 5, 6, 7, 8, 9, 10, 11, 12, 13, 14, 15, 16, 17, 18, 19, 20}"
      ]
     },
     "execution_count": 36,
     "metadata": {},
     "output_type": "execute_result"
    }
   ],
   "source": [
    "{x + 10 for x in range(-10, 11)}"
   ]
  },
  {
   "cell_type": "code",
   "execution_count": 37,
   "id": "82bcb407-fad0-4e2c-8884-697b44c71716",
   "metadata": {},
   "outputs": [
    {
     "data": {
      "text/plain": [
       "{0, 1, 4, 9, 16, 25, 36, 49, 64, 81, 100}"
      ]
     },
     "execution_count": 37,
     "metadata": {},
     "output_type": "execute_result"
    }
   ],
   "source": [
    "{x ** 2 for x in range(-10, 11)}"
   ]
  },
  {
   "cell_type": "code",
   "execution_count": 53,
   "id": "1485a61d-87d4-4d7e-94c8-c1a10777b217",
   "metadata": {},
   "outputs": [],
   "source": [
    "def plot_function(f, x_min = -10, x_max = 10, n_values = 2000):\n",
    "    x = np.linspace(x_min, x_max, n_values)\n",
    "    y = f(x)\n",
    "    plt.plot(x, y)\n",
    "    plt.gca().set_aspect(\"equal\")\n",
    "    plt.show()"
   ]
  },
  {
   "cell_type": "code",
   "execution_count": 55,
   "id": "ccb44e02-6db8-49dc-87df-1ddd69cc34b9",
   "metadata": {},
   "outputs": [
    {
     "data": {
      "image/png": "[encoded data removed]",
      "text/plain": [
       "<Figure size 640x480 with 1 Axes>"
      ]
     },
     "metadata": {},
     "output_type": "display_data"
    },
    {
     "data": {
      "image/png": "[encoded data removed]",
      "text/plain": [
       "<Figure size 640x480 with 1 Axes>"
      ]
     },
     "metadata": {},
     "output_type": "display_data"
    }
   ],
   "source": [
    "\n",
    "plot_function(lambda x: 3 * x + 5)\n",
    "plot_function(lambda x: -np.sqrt(1 - x**2), -1, 1)\n",
    "plt.show()"
   ]
  },
  {
   "cell_type": "code",
   "execution_count": null,
   "id": "df5a231b-f3da-4e0e-80b6-2ca708266bac",
   "metadata": {},
   "outputs": [],
   "source": []
  }
 ],
 "metadata": {
  "kernelspec": {
   "display_name": "Python 3 (ipykernel)",
   "language": "python",
   "name": "python3"
  },
  "language_info": {
   "codemirror_mode": {
    "name": "ipython",
    "version": 3
   },
   "file_extension": ".py",
   "mimetype": "text/x-python",
   "name": "python",
   "nbconvert_exporter": "python",
   "pygments_lexer": "ipython3",
   "version": "3.11.7"
  },
  "widgets": {
   "application/vnd.jupyter.widget-state+json": {
    "state": {},
    "version_major": 2,
    "version_minor": 0
   }
  }
 },
 "nbformat": 4,
 "nbformat_minor": 5
}
