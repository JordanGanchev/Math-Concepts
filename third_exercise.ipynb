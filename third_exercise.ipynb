{
 "cells": [
  {
   "cell_type": "code",
   "execution_count": 78,
   "id": "3f8adbd4-59b8-46a0-86d4-dd2c6cde19de",
   "metadata": {},
   "outputs": [],
   "source": [
    "import numpy as np"
   ]
  },
  {
   "cell_type": "code",
   "execution_count": 31,
   "id": "4cb4298a-087d-488b-8843-5dcca37c8e59",
   "metadata": {},
   "outputs": [],
   "source": [
    "# def get_numbers():\n",
    "#     numbers = []\n",
    "#     i = 1\n",
    "#     while i < 11:\n",
    "#         numbers.append(i)\n",
    "#         i += 1\n",
    "#     print(numbers)"
   ]
  },
  {
   "cell_type": "code",
   "execution_count": 32,
   "id": "6dfc968c-c9d9-49ef-adc5-6467bb49d605",
   "metadata": {},
   "outputs": [
    {
     "data": {
      "text/plain": [
       "[1, 2, 3, 4, 5, 6, 7, 8, 9, 10, 11]"
      ]
     },
     "execution_count": 32,
     "metadata": {},
     "output_type": "execute_result"
    }
   ],
   "source": [
    "get_numbers()"
   ]
  },
  {
   "cell_type": "code",
   "execution_count": 33,
   "id": "e9e70b9b-3f10-4ad9-9cb5-6891f1ab0620",
   "metadata": {},
   "outputs": [],
   "source": [
    "numbers = get_numbers()"
   ]
  },
  {
   "cell_type": "code",
   "execution_count": 34,
   "id": "1a9756ba-5c3e-40be-87ff-327a52724a6c",
   "metadata": {},
   "outputs": [
    {
     "data": {
      "text/plain": [
       "False"
      ]
     },
     "execution_count": 34,
     "metadata": {},
     "output_type": "execute_result"
    }
   ],
   "source": [
    "numbers is None"
   ]
  },
  {
   "cell_type": "code",
   "execution_count": 35,
   "id": "345522cf-39f1-4b94-b2bf-a16914e7f246",
   "metadata": {},
   "outputs": [],
   "source": [
    "# def get_numbers(low = 1, high = 11):\n",
    "#     if low < high:\n",
    "#         raise ValueError(\"low cannot be greate\")\n",
    "    \n",
    "#     numbers = []\n",
    "#     i = 1\n",
    "#     while i < 11:\n",
    "#         numbers.append(i)\n",
    "#         i += 1\n",
    "#     return numbers"
   ]
  },
  {
   "cell_type": "code",
   "execution_count": 36,
   "id": "1db72af3-563e-4651-8b05-3c3db16b4b57",
   "metadata": {},
   "outputs": [
    {
     "data": {
      "text/plain": [
       "[]"
      ]
     },
     "execution_count": 36,
     "metadata": {},
     "output_type": "execute_result"
    }
   ],
   "source": [
    "get_numbers(20, 1)"
   ]
  },
  {
   "cell_type": "code",
   "execution_count": 37,
   "id": "fc6ec1f4-4088-43da-a352-139ae9cd31c8",
   "metadata": {},
   "outputs": [
    {
     "data": {
      "text/plain": [
       "False"
      ]
     },
     "execution_count": 37,
     "metadata": {},
     "output_type": "execute_result"
    }
   ],
   "source": [
    "get_numbers is None"
   ]
  },
  {
   "cell_type": "code",
   "execution_count": 42,
   "id": "17c11e8f-6087-4179-9fb7-46a3ab7a5e2f",
   "metadata": {},
   "outputs": [],
   "source": [
    "def get_numbers():\n",
    "    # if low > high:\n",
    "    #     raise ValueError(\"low cannot be greate\")\n",
    "    \n",
    "    numbers = list(range(1, 11))\n",
    "    return numbers"
   ]
  },
  {
   "cell_type": "code",
   "execution_count": 46,
   "id": "563393a8-6623-48ea-9247-9fa2a132a747",
   "metadata": {},
   "outputs": [],
   "source": [
    "numbers = get_numbers()"
   ]
  },
  {
   "cell_type": "code",
   "execution_count": 54,
   "id": "d6f648c6-07c8-4aed-abae-4b33b9e9fe6b",
   "metadata": {},
   "outputs": [],
   "source": [
    "for i in range(len(numbers)): \n",
    "    numbers[i] += 2"
   ]
  },
  {
   "cell_type": "code",
   "execution_count": 55,
   "id": "e89cc019-460b-44ed-ab7c-cb1901addaf3",
   "metadata": {},
   "outputs": [
    {
     "data": {
      "text/plain": [
       "[3, 4, 5, 6, 7, 8, 9, 10, 11, 12]"
      ]
     },
     "execution_count": 55,
     "metadata": {},
     "output_type": "execute_result"
    }
   ],
   "source": [
    "numbers"
   ]
  },
  {
   "cell_type": "code",
   "execution_count": 56,
   "id": "7a5f5923-894e-4272-8118-c81f2900a0cc",
   "metadata": {},
   "outputs": [],
   "source": [
    "function_as_variable = get_numbers"
   ]
  },
  {
   "cell_type": "code",
   "execution_count": 57,
   "id": "0f45e38c-e987-4767-8c9e-617674481d40",
   "metadata": {},
   "outputs": [
    {
     "data": {
      "text/plain": [
       "[1, 2, 3, 4, 5, 6, 7, 8, 9, 10]"
      ]
     },
     "execution_count": 57,
     "metadata": {},
     "output_type": "execute_result"
    }
   ],
   "source": [
    "function_as_variable()"
   ]
  },
  {
   "cell_type": "code",
   "execution_count": 59,
   "id": "874eaf4b-723f-46d0-af28-a66f4559747e",
   "metadata": {},
   "outputs": [],
   "source": [
    "numbers2 = list(map(lambda n: n + 2, numbers))"
   ]
  },
  {
   "cell_type": "code",
   "execution_count": 60,
   "id": "71b40783-743c-468c-85d5-5864d457f217",
   "metadata": {},
   "outputs": [
    {
     "data": {
      "text/plain": [
       "[3, 4, 5, 6, 7, 8, 9, 10, 11, 12]"
      ]
     },
     "execution_count": 60,
     "metadata": {},
     "output_type": "execute_result"
    }
   ],
   "source": [
    "numbers"
   ]
  },
  {
   "cell_type": "code",
   "execution_count": 61,
   "id": "57b01cf0-ffee-4b6d-9cd9-63d23ed0682b",
   "metadata": {},
   "outputs": [
    {
     "data": {
      "text/plain": [
       "[5, 6, 7, 8, 9, 10, 11, 12, 13, 14]"
      ]
     },
     "execution_count": 61,
     "metadata": {},
     "output_type": "execute_result"
    }
   ],
   "source": [
    "numbers2"
   ]
  },
  {
   "cell_type": "code",
   "execution_count": 64,
   "id": "7b82fadd-1ce7-41f9-a40a-ffa4049f39e2",
   "metadata": {},
   "outputs": [
    {
     "data": {
      "text/plain": [
       "[3, 4]"
      ]
     },
     "execution_count": 64,
     "metadata": {},
     "output_type": "execute_result"
    }
   ],
   "source": [
    "list(filter(lambda n: n < 5, numbers))"
   ]
  },
  {
   "cell_type": "code",
   "execution_count": 65,
   "id": "7ad1afab-1df4-4ab7-b798-be8358e87380",
   "metadata": {},
   "outputs": [
    {
     "data": {
      "text/plain": [
       "[3, 4, 5, 6, 7, 8, 9, 10, 11, 12]"
      ]
     },
     "execution_count": 65,
     "metadata": {},
     "output_type": "execute_result"
    }
   ],
   "source": [
    "[n for n in numbers] "
   ]
  },
  {
   "cell_type": "code",
   "execution_count": 69,
   "id": "4f3d9183-2cfc-4e8e-aab8-b870bd2a2749",
   "metadata": {},
   "outputs": [
    {
     "data": {
      "text/plain": [
       "[64]"
      ]
     },
     "execution_count": 69,
     "metadata": {},
     "output_type": "execute_result"
    }
   ],
   "source": [
    "[(n + 2) ** 2 for n in numbers if n < 7 and n ** 2 > 25] "
   ]
  },
  {
   "cell_type": "code",
   "execution_count": 70,
   "id": "2c3b4bf9-aeaa-40ea-b926-bafc390ad390",
   "metadata": {},
   "outputs": [],
   "source": [
    "def sumator(a):\n",
    "    def inner_sumator(b):\n",
    "        return a + b\n",
    "    return inner_sumator"
   ]
  },
  {
   "cell_type": "code",
   "execution_count": 71,
   "id": "72c01d02-a5c6-4163-bcc2-ca3ba165bdc8",
   "metadata": {},
   "outputs": [],
   "source": [
    "add5 = sumator(5)"
   ]
  },
  {
   "cell_type": "code",
   "execution_count": 72,
   "id": "d674457c-f0ef-4b33-9bf9-3d326c6a6a8d",
   "metadata": {},
   "outputs": [
    {
     "data": {
      "text/plain": [
       "6"
      ]
     },
     "execution_count": 72,
     "metadata": {},
     "output_type": "execute_result"
    }
   ],
   "source": [
    "add5(1)"
   ]
  },
  {
   "cell_type": "code",
   "execution_count": 73,
   "id": "18a0f5c7-a1be-4b4d-8cbe-24bfab4dcc8d",
   "metadata": {},
   "outputs": [
    {
     "data": {
      "text/plain": [
       "15"
      ]
     },
     "execution_count": 73,
     "metadata": {},
     "output_type": "execute_result"
    }
   ],
   "source": [
    "add5(10)"
   ]
  },
  {
   "cell_type": "code",
   "execution_count": 74,
   "id": "d1f12225-64aa-476b-8d97-d49a8530df1e",
   "metadata": {},
   "outputs": [
    {
     "data": {
      "text/plain": [
       "[8, 9, 10, 11, 12, 13, 14, 15, 16, 17]"
      ]
     },
     "execution_count": 74,
     "metadata": {},
     "output_type": "execute_result"
    }
   ],
   "source": [
    "[add5(n) for n in numbers]"
   ]
  },
  {
   "cell_type": "code",
   "execution_count": 77,
   "id": "4a64c336-866c-42c6-a5fb-0103b664adc0",
   "metadata": {},
   "outputs": [
    {
     "data": {
      "text/plain": [
       "[13, 14, 15, 16, 17, 18, 19, 20, 21, 22]"
      ]
     },
     "execution_count": 77,
     "metadata": {},
     "output_type": "execute_result"
    }
   ],
   "source": [
    "[sumator(10)(n) for n in numbers]"
   ]
  },
  {
   "cell_type": "code",
   "execution_count": 80,
   "id": "3e73f111-c1c0-4a84-aec4-cd4b10fe6a3f",
   "metadata": {},
   "outputs": [
    {
     "data": {
      "text/plain": [
       "array([ 3,  4,  5,  6,  7,  8,  9, 10, 11, 12, 13, 14, 15, 16, 17, 18, 19,\n",
       "       20, 21, 22])"
      ]
     },
     "execution_count": 80,
     "metadata": {},
     "output_type": "execute_result"
    }
   ],
   "source": [
    "np.arange(20) + 3"
   ]
  },
  {
   "cell_type": "code",
   "execution_count": 82,
   "id": "0ee8212d-eb9a-4382-aa43-bbb3e226903d",
   "metadata": {},
   "outputs": [],
   "source": [
    "np_nums = np.arange(20)"
   ]
  },
  {
   "cell_type": "code",
   "execution_count": 83,
   "id": "4c25bbcb-00f5-42b7-a0cf-19491a29b91b",
   "metadata": {},
   "outputs": [
    {
     "data": {
      "text/plain": [
       "[array([ 8, 10, 12, 14, 16, 18, 20, 22, 24, 26, 28, 30, 32, 34, 36, 38])]"
      ]
     },
     "execution_count": 83,
     "metadata": {},
     "output_type": "execute_result"
    }
   ],
   "source": [
    "[np_nums[np_nums >3] * 2]"
   ]
  },
  {
   "cell_type": "code",
   "execution_count": null,
   "id": "974bf82f-ffee-4d77-9f43-234002c10580",
   "metadata": {},
   "outputs": [],
   "source": []
  }
 ],
 "metadata": {
  "kernelspec": {
   "display_name": "Python 3 (ipykernel)",
   "language": "python",
   "name": "python3"
  },
  "language_info": {
   "codemirror_mode": {
    "name": "ipython",
    "version": 3
   },
   "file_extension": ".py",
   "mimetype": "text/x-python",
   "name": "python",
   "nbconvert_exporter": "python",
   "pygments_lexer": "ipython3",
   "version": "3.11.7"
  }
 },
 "nbformat": 4,
 "nbformat_minor": 5
}
